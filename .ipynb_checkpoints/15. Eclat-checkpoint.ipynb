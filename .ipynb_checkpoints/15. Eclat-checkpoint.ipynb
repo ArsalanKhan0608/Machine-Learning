{
 "cells": [
  {
   "cell_type": "code",
   "execution_count": 1,
   "id": "5077d6c3",
   "metadata": {},
   "outputs": [],
   "source": [
    "class Eclat:\n",
    "    def __init__(self, min_support=0.1):\n",
    "        self.min_support = min_support\n",
    "        self.itemsets = []\n",
    "        self.support_data = {}\n",
    "\n",
    "    def fit(self, transactions):\n",
    "        itemsets = self._get_initial_itemsets(transactions)\n",
    "        k = 2\n",
    "        while True:\n",
    "            new_itemsets = self._generate_new_combinations(itemsets, k)\n",
    "            k += 1\n",
    "            itemsets, large_itemsets = self._filter_itemsets_by_support(transactions, new_itemsets)\n",
    "            if not large_itemsets:\n",
    "                break\n",
    "            self.itemsets.extend(large_itemsets)\n",
    "\n",
    "    def _get_initial_itemsets(self, transactions):\n",
    "        itemsets = {}\n",
    "        for transaction in transactions:\n",
    "            for item in transaction:\n",
    "                itemset = frozenset([item])\n",
    "                if itemset in itemsets:\n",
    "                    itemsets[itemset] += 1\n",
    "                else:\n",
    "                    itemsets[itemset] = 1\n",
    "        return itemsets\n",
    "\n",
    "    def _generate_new_combinations(self, itemsets, k):\n",
    "        new_combinations = []\n",
    "        itemsets_list = list(itemsets.keys())\n",
    "        for i in range(len(itemsets_list)):\n",
    "            for j in range(i + 1, len(itemsets_list)):\n",
    "                l1 = list(itemsets_list[i])[:k - 2]\n",
    "                l2 = list(itemsets_list[j])[:k - 2]\n",
    "                l1.sort()\n",
    "                l2.sort()\n",
    "                if l1 == l2:\n",
    "                    new_combinations.append(itemsets_list[i] | itemsets_list[j])\n",
    "        return new_combinations\n",
    "\n",
    "    def _filter_itemsets_by_support(self, transactions, itemsets):\n",
    "        itemset_counts = {}\n",
    "        for itemset in itemsets:\n",
    "            for transaction in transactions:\n",
    "                if itemset.issubset(transaction):\n",
    "                    if itemset in itemset_counts:\n",
    "                        itemset_counts[itemset] += 1\n",
    "                    else:\n",
    "                        itemset_counts[itemset] = 1\n",
    "        total_transactions = len(transactions)\n",
    "        large_itemsets = []\n",
    "        for itemset, count in itemset_counts.items():\n",
    "            support = count / total_transactions\n",
    "            if support >= self.min_support:\n",
    "                self.support_data[itemset] = support\n",
    "                large_itemsets.append(itemset)\n",
    "        return itemset_counts, large_itemsets\n",
    "\n",
    "    def results(self):\n",
    "        return self.itemsets, self.support_data\n"
   ]
  },
  {
   "cell_type": "code",
   "execution_count": 2,
   "id": "9804e461",
   "metadata": {},
   "outputs": [
    {
     "name": "stdout",
     "output_type": "stream",
     "text": [
      "Frequent Itemsets: [frozenset({'Bread', 'Milk'}), frozenset({'Butter', 'Milk'}), frozenset({'Diapers', 'Milk'}), frozenset({'Bread', 'Butter'}), frozenset({'Bread', 'Butter', 'Milk'})]\n",
      "Support Data: {frozenset({'Bread', 'Milk'}): 0.375, frozenset({'Butter', 'Milk'}): 0.375, frozenset({'Diapers', 'Milk'}): 0.375, frozenset({'Bread', 'Butter'}): 0.5, frozenset({'Bread', 'Butter', 'Milk'}): 0.375}\n"
     ]
    }
   ],
   "source": [
    "# Sample dataset\n",
    "transactions = [\n",
    "    ['Milk', 'Bread', 'Butter'],\n",
    "    ['Beer', 'Diapers', 'Eggs'],\n",
    "    ['Milk', 'Diapers', 'Beer', 'Cola'],\n",
    "    ['Bread', 'Butter', 'Eggs'],\n",
    "    ['Milk', 'Diapers', 'Bread', 'Butter'],\n",
    "    ['Beer', 'Cola'],\n",
    "    ['Milk', 'Diapers', 'Bread', 'Butter', 'Eggs'],\n",
    "    ['Beer', 'Eggs']\n",
    "]\n",
    "\n",
    "# Initialize and fit Eclat model\n",
    "eclat = Eclat(min_support=0.3)\n",
    "eclat.fit(transactions)\n",
    "\n",
    "# Display results\n",
    "itemsets, support_data = eclat.results()\n",
    "print(\"Frequent Itemsets:\", itemsets)\n",
    "print(\"Support Data:\", support_data)\n"
   ]
  },
  {
   "cell_type": "code",
   "execution_count": null,
   "id": "57f9e417",
   "metadata": {},
   "outputs": [],
   "source": []
  }
 ],
 "metadata": {
  "kernelspec": {
   "display_name": "Python 3",
   "language": "python",
   "name": "python3"
  },
  "language_info": {
   "codemirror_mode": {
    "name": "ipython",
    "version": 3
   },
   "file_extension": ".py",
   "mimetype": "text/x-python",
   "name": "python",
   "nbconvert_exporter": "python",
   "pygments_lexer": "ipython3",
   "version": "3.8.8"
  }
 },
 "nbformat": 4,
 "nbformat_minor": 5
}
